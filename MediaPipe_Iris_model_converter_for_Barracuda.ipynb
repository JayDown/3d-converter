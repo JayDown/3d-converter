{
  "nbformat": 4,
  "nbformat_minor": 0,
  "metadata": {
    "colab": {
      "name": "MediaPipe Iris model converter for Barracuda",
      "provenance": [],
      "include_colab_link": true
    },
    "kernelspec": {
      "name": "python3",
      "display_name": "Python 3"
    },
    "language_info": {
      "name": "python"
    }
  },
  "cells": [
    {
      "cell_type": "markdown",
      "metadata": {
        "id": "view-in-github",
        "colab_type": "text"
      },
      "source": [
        "<a href=\"https://colab.research.google.com/github/JayDown/3d-converter/blob/master/MediaPipe_Iris_model_converter_for_Barracuda.ipynb\" target=\"_parent\"><img src=\"https://colab.research.google.com/assets/colab-badge.svg\" alt=\"Open In Colab\"/></a>"
      ]
    },
    {
      "cell_type": "markdown",
      "metadata": {
        "id": "ySnBmjCkqDKr"
      },
      "source": [
        "# MediaPipe Iris model converter for Unity Barracuda\n",
        "\n",
        "## What it does\n",
        "\n",
        "- Converts .tflite into ONNX using tflite2onnx\n",
        "- Replace Pad operators with combinations of ConstantOfShape and Concat.\n",
        "- Add Expand operators to PRelu slope inputs.\n",
        "\n",
        "## Why it's needed\n",
        "\n",
        "- The current implementation of Barracuda doesn't support non-spatial axis padding, so I had to replace them with concatenation with zero-filled tensors.\n",
        "- The current implementation of the PRelu activator in Barracuda doesn't support undirectional broadcasting, so I had to expand the slope tensors before feeding to the activators."
      ]
    },
    {
      "cell_type": "markdown",
      "metadata": {
        "id": "rARLDT3h6jID"
      },
      "source": [
        "# Setup"
      ]
    },
    {
      "cell_type": "code",
      "metadata": {
        "colab": {
          "base_uri": "https://localhost:8080/"
        },
        "id": "B0NwwIsXa7vQ",
        "outputId": "ab3f02ff-5e81-4b92-8991-cf33bfdb4274"
      },
      "source": [
        "%pip install tflite2onnx"
      ],
      "execution_count": null,
      "outputs": [
        {
          "output_type": "stream",
          "text": [
            "Collecting tflite2onnx\n",
            "\u001b[?25l  Downloading https://files.pythonhosted.org/packages/ee/e9/d6bb0ae22949c690a7473c306ea09b8d4113ab50503ba5822a7eca801456/tflite2onnx-0.3.2-py3-none-any.whl (42kB)\n",
            "\r\u001b[K     |███████▊                        | 10kB 15.5MB/s eta 0:00:01\r\u001b[K     |███████████████▌                | 20kB 9.6MB/s eta 0:00:01\r\u001b[K     |███████████████████████▎        | 30kB 7.6MB/s eta 0:00:01\r\u001b[K     |███████████████████████████████ | 40kB 6.9MB/s eta 0:00:01\r\u001b[K     |████████████████████████████████| 51kB 2.3MB/s \n",
            "\u001b[?25hRequirement already satisfied: numpy in /usr/local/lib/python3.7/dist-packages (from tflite2onnx) (1.19.5)\n",
            "Collecting onnx\n",
            "\u001b[?25l  Downloading https://files.pythonhosted.org/packages/38/57/65f48111f823df02da3e391b0b1aaadaf9972f8aa68ab3a41f46d59f57fe/onnx-1.8.1-cp37-cp37m-manylinux2010_x86_64.whl (14.5MB)\n",
            "\u001b[K     |████████████████████████████████| 14.5MB 303kB/s \n",
            "\u001b[?25hCollecting tflite>=2.4.0\n",
            "\u001b[?25l  Downloading https://files.pythonhosted.org/packages/46/32/71250e71ec9f8656e45842a343f2fe6c2723787577e70cb9169b57471103/tflite-2.4.0-py2.py3-none-any.whl (87kB)\n",
            "\u001b[K     |████████████████████████████████| 92kB 7.9MB/s \n",
            "\u001b[?25hRequirement already satisfied: protobuf in /usr/local/lib/python3.7/dist-packages (from onnx->tflite2onnx) (3.12.4)\n",
            "Requirement already satisfied: typing-extensions>=3.6.2.1 in /usr/local/lib/python3.7/dist-packages (from onnx->tflite2onnx) (3.7.4.3)\n",
            "Requirement already satisfied: six in /usr/local/lib/python3.7/dist-packages (from onnx->tflite2onnx) (1.15.0)\n",
            "Requirement already satisfied: flatbuffers in /usr/local/lib/python3.7/dist-packages (from tflite>=2.4.0->tflite2onnx) (1.12)\n",
            "Requirement already satisfied: setuptools in /usr/local/lib/python3.7/dist-packages (from protobuf->onnx->tflite2onnx) (54.2.0)\n",
            "Installing collected packages: onnx, tflite, tflite2onnx\n",
            "Successfully installed onnx-1.8.1 tflite-2.4.0 tflite2onnx-0.3.2\n"
          ],
          "name": "stdout"
        }
      ]
    },
    {
      "cell_type": "markdown",
      "metadata": {
        "id": "euRtm0njpxHq"
      },
      "source": [
        "# tflite to ONNX conversion"
      ]
    },
    {
      "cell_type": "code",
      "metadata": {
        "colab": {
          "base_uri": "https://localhost:8080/"
        },
        "id": "hDN4knuQoXF8",
        "outputId": "3d6fdfab-024a-416e-ce2d-6f617cdb5d0a"
      },
      "source": [
        "!wget https://github.com/google/mediapipe/raw/master/mediapipe/models/iris_landmark.tflite"
      ],
      "execution_count": null,
      "outputs": [
        {
          "output_type": "stream",
          "text": [
            "--2021-04-14 04:27:55--  https://github.com/google/mediapipe/raw/master/mediapipe/models/iris_landmark.tflite\n",
            "Resolving github.com (github.com)... 13.114.40.48\n",
            "Connecting to github.com (github.com)|13.114.40.48|:443... connected.\n",
            "HTTP request sent, awaiting response... 302 Found\n",
            "Location: https://raw.githubusercontent.com/google/mediapipe/master/mediapipe/models/iris_landmark.tflite [following]\n",
            "--2021-04-14 04:27:56--  https://raw.githubusercontent.com/google/mediapipe/master/mediapipe/models/iris_landmark.tflite\n",
            "Resolving raw.githubusercontent.com (raw.githubusercontent.com)... 185.199.108.133, 185.199.109.133, 185.199.110.133, ...\n",
            "Connecting to raw.githubusercontent.com (raw.githubusercontent.com)|185.199.108.133|:443... connected.\n",
            "HTTP request sent, awaiting response... 200 OK\n",
            "Length: 2640568 (2.5M) [application/octet-stream]\n",
            "Saving to: ‘iris_landmark.tflite’\n",
            "\n",
            "iris_landmark.tflit 100%[===================>]   2.52M  --.-KB/s    in 0.1s    \n",
            "\n",
            "2021-04-14 04:27:57 (18.9 MB/s) - ‘iris_landmark.tflite’ saved [2640568/2640568]\n",
            "\n"
          ],
          "name": "stdout"
        }
      ]
    },
    {
      "cell_type": "code",
      "metadata": {
        "id": "nin0IiqyoWmd"
      },
      "source": [
        "!tflite2onnx iris_landmark.tflite iris_landmark.onnx"
      ],
      "execution_count": null,
      "outputs": []
    },
    {
      "cell_type": "markdown",
      "metadata": {
        "id": "u2Bu-Vw6lBK1"
      },
      "source": [
        "# Converter implementation"
      ]
    },
    {
      "cell_type": "code",
      "metadata": {
        "id": "Z8bu5UbDlA55"
      },
      "source": [
        "import numpy as np\n",
        "import onnx\n",
        "from onnx import checker, helper\n",
        "from onnx import AttributeProto, TensorProto, GraphProto\n",
        "from onnx import numpy_helper as np_helper"
      ],
      "execution_count": null,
      "outputs": []
    },
    {
      "cell_type": "code",
      "metadata": {
        "id": "clcbavcIsmqu"
      },
      "source": [
        "# Shape tensor generator\n",
        "def get_shape_tensor(model, shape):\n",
        "  name = 'shape_{0}x{1}x{2}x{3}'.format(*shape)\n",
        "\n",
        "  # If the initializer already exists, simply use it.\n",
        "  exists = any(x for x in model.graph.initializer if x.name == name)\n",
        "  if exists: return name\n",
        "\n",
        "  # Add the initializer for the tensor.\n",
        "  tensor = helper.make_tensor(name, TensorProto.INT64, (4,), shape)\n",
        "  model.graph.initializer.append(tensor)\n",
        "  return name"
      ],
      "execution_count": null,
      "outputs": []
    },
    {
      "cell_type": "markdown",
      "metadata": {
        "id": "DdUaOQVdlLwI"
      },
      "source": [
        "## Pad operator replacement"
      ]
    },
    {
      "cell_type": "code",
      "metadata": {
        "id": "1opFpNS_lGIQ"
      },
      "source": [
        "def replace_pad_ops(model):\n",
        "  i = 0\n",
        "  while i < len(model.graph.node):\n",
        "    # Node type check\n",
        "    node = model.graph.node[i]\n",
        "    if node.op_type != 'Pad': i += 1; continue\n",
        "\n",
        "    # Pad node input\n",
        "    data = next(n for n in model.graph.value_info  if n.name == node.input[0])\n",
        "    pads = next(n for n in model.graph.initializer if n.name == node.input[1])\n",
        "\n",
        "    # Shape tensor\n",
        "    dim = tuple(map(lambda x: x.dim_value, data.type.tensor_type.shape.dim))\n",
        "    ext = np_helper.to_array(pads)[5]\n",
        "    shape_tensor = get_shape_tensor(model, (1, ext, dim[2], dim[3]))\n",
        "\n",
        "    # Replacement nodes\n",
        "    const_out = node.name + '_pad'\n",
        "    const_node = helper.make_node('ConstantOfShape', (shape_tensor,), (const_out,))\n",
        "    concat_node = helper.make_node('Concat', (data.name, const_out), (node.output[0],), axis = 1)\n",
        "\n",
        "    # Graph modification\n",
        "    model.graph.node.insert(i, const_node)\n",
        "    model.graph.node.insert(i + 1, concat_node)\n",
        "    model.graph.node.remove(node)\n",
        "    i += 2"
      ],
      "execution_count": null,
      "outputs": []
    },
    {
      "cell_type": "markdown",
      "metadata": {
        "id": "W25ZKEkhlbbC"
      },
      "source": [
        "## PRelu operator replacement"
      ]
    },
    {
      "cell_type": "code",
      "metadata": {
        "id": "9U085LqKmhmb"
      },
      "source": [
        "def replace_prelu_ops(model):\n",
        "  i = 0\n",
        "  while i < len(model.graph.node):\n",
        "    # Node type check\n",
        "    node = model.graph.node[i]\n",
        "    if node.op_type != 'PRelu': i += 1; continue\n",
        "\n",
        "    # PRelu node input\n",
        "    input = next(n for n in model.graph.value_info if n.name == node.input[0])\n",
        "\n",
        "    # Shape tensor\n",
        "    dim = tuple(map(lambda x: x.dim_value, input.type.tensor_type.shape.dim))\n",
        "    shape_tensor = get_shape_tensor(model, dim)\n",
        "\n",
        "    # Replacement nodes\n",
        "    expand_out = node.name + '_expand'\n",
        "    expand_node = helper.make_node('Expand', (node.input[1], shape_tensor), (expand_out,))\n",
        "    prelu_node = helper.make_node('PRelu', (input.name, expand_out), (node.output[0],))\n",
        "\n",
        "    # Graph modification\n",
        "    model.graph.node.insert(i, expand_node)\n",
        "    model.graph.node.insert(i + 1, prelu_node)\n",
        "    model.graph.node.remove(node)\n",
        "    i += 2"
      ],
      "execution_count": null,
      "outputs": []
    },
    {
      "cell_type": "markdown",
      "metadata": {
        "id": "zyLXZZ8gp42D"
      },
      "source": [
        "# ONNX to ONNX (Barracuda) conversion"
      ]
    },
    {
      "cell_type": "code",
      "metadata": {
        "id": "_qXwtjWA7VDw"
      },
      "source": [
        "model = onnx.load(\"iris_landmark.onnx\")\n",
        "replace_pad_ops(model)\n",
        "replace_prelu_ops(model)\n",
        "checker.check_model(model)\n",
        "onnx.save(model, \"iris_landmark_barracuda.onnx\")"
      ],
      "execution_count": null,
      "outputs": []
    }
  ]
}