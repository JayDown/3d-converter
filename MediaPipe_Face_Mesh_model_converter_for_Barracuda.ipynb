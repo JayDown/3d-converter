{
  "nbformat": 4,
  "nbformat_minor": 0,
  "metadata": {
    "colab": {
      "name": "MediaPipe Face Mesh model converter for Barracuda",
      "provenance": [],
      "include_colab_link": true
    },
    "kernelspec": {
      "name": "python3",
      "display_name": "Python 3"
    },
    "language_info": {
      "name": "python"
    }
  },
  "cells": [
    {
      "cell_type": "markdown",
      "metadata": {
        "id": "view-in-github",
        "colab_type": "text"
      },
      "source": [
        "<a href=\"https://colab.research.google.com/github/JayDown/3d-converter/blob/master/MediaPipe_Face_Mesh_model_converter_for_Barracuda.ipynb\" target=\"_parent\"><img src=\"https://colab.research.google.com/assets/colab-badge.svg\" alt=\"Open In Colab\"/></a>"
      ]
    },
    {
      "cell_type": "markdown",
      "metadata": {
        "id": "DxCHiITIysXd"
      },
      "source": [
        "# MediaPipe Face Mesh model converter for Unity Barracuda\n",
        "\n",
        "## What it does\n",
        "\n",
        "- Converts .tflite into ONNX using tflite2onnx\n",
        "- Replace Pad operators with combinations of ConstantOfShape and Concat.\n",
        "- Add Expand operators to PRelu slope inputs.\n",
        "\n",
        "## Why it's needed\n",
        "\n",
        "- The current implementation of Barracuda doesn't support non-spatial axis padding, so I had to replace them with concatenation with zero-filled tensors.\n",
        "- The current implementation of the PRelu activator in Barracuda doesn't support undirectional broadcasting, so I had to expand the slope tensors before feeding to the activators."
      ]
    },
    {
      "cell_type": "markdown",
      "metadata": {
        "id": "rARLDT3h6jID"
      },
      "source": [
        "# Setup"
      ]
    },
    {
      "cell_type": "code",
      "metadata": {
        "colab": {
          "base_uri": "https://localhost:8080/"
        },
        "id": "B0NwwIsXa7vQ",
        "outputId": "0c2175ca-70a5-47c9-e81d-dc418d25e669"
      },
      "source": [
        "%pip install tflite2onnx"
      ],
      "execution_count": null,
      "outputs": [
        {
          "output_type": "stream",
          "text": [
            "Requirement already satisfied: tflite2onnx in /usr/local/lib/python3.7/dist-packages (0.3.2)\n",
            "Requirement already satisfied: numpy in /usr/local/lib/python3.7/dist-packages (from tflite2onnx) (1.19.5)\n",
            "Requirement already satisfied: tflite>=2.4.0 in /usr/local/lib/python3.7/dist-packages (from tflite2onnx) (2.4.0)\n",
            "Requirement already satisfied: onnx in /usr/local/lib/python3.7/dist-packages (from tflite2onnx) (1.8.1)\n",
            "Requirement already satisfied: flatbuffers in /usr/local/lib/python3.7/dist-packages (from tflite>=2.4.0->tflite2onnx) (1.12)\n",
            "Requirement already satisfied: six in /usr/local/lib/python3.7/dist-packages (from onnx->tflite2onnx) (1.15.0)\n",
            "Requirement already satisfied: protobuf in /usr/local/lib/python3.7/dist-packages (from onnx->tflite2onnx) (3.12.4)\n",
            "Requirement already satisfied: typing-extensions>=3.6.2.1 in /usr/local/lib/python3.7/dist-packages (from onnx->tflite2onnx) (3.7.4.3)\n",
            "Requirement already satisfied: setuptools in /usr/local/lib/python3.7/dist-packages (from protobuf->onnx->tflite2onnx) (54.2.0)\n"
          ],
          "name": "stdout"
        }
      ]
    },
    {
      "cell_type": "markdown",
      "metadata": {
        "id": "euRtm0njpxHq"
      },
      "source": [
        "# tflite to ONNX conversion"
      ]
    },
    {
      "cell_type": "code",
      "metadata": {
        "colab": {
          "base_uri": "https://localhost:8080/"
        },
        "id": "hDN4knuQoXF8",
        "outputId": "7bfd8081-2c4b-4ed1-9fcb-97b220e2476f"
      },
      "source": [
        "!wget https://github.com/google/mediapipe/raw/master/mediapipe/models/face_landmark.tflite"
      ],
      "execution_count": null,
      "outputs": [
        {
          "output_type": "stream",
          "text": [
            "--2021-04-08 09:22:37--  https://github.com/google/mediapipe/raw/master/mediapipe/models/face_landmark.tflite\n",
            "Resolving github.com (github.com)... 140.82.113.4\n",
            "Connecting to github.com (github.com)|140.82.113.4|:443... connected.\n",
            "HTTP request sent, awaiting response... 302 Found\n",
            "Location: https://raw.githubusercontent.com/google/mediapipe/master/mediapipe/models/face_landmark.tflite [following]\n",
            "--2021-04-08 09:22:37--  https://raw.githubusercontent.com/google/mediapipe/master/mediapipe/models/face_landmark.tflite\n",
            "Resolving raw.githubusercontent.com (raw.githubusercontent.com)... 185.199.108.133, 185.199.109.133, 185.199.110.133, ...\n",
            "Connecting to raw.githubusercontent.com (raw.githubusercontent.com)|185.199.108.133|:443... connected.\n",
            "HTTP request sent, awaiting response... 200 OK\n",
            "Length: 2439440 (2.3M) [application/octet-stream]\n",
            "Saving to: ‘face_landmark.tflite.1’\n",
            "\n",
            "face_landmark.tflit 100%[===================>]   2.33M  --.-KB/s    in 0.1s    \n",
            "\n",
            "2021-04-08 09:22:37 (17.4 MB/s) - ‘face_landmark.tflite.1’ saved [2439440/2439440]\n",
            "\n"
          ],
          "name": "stdout"
        }
      ]
    },
    {
      "cell_type": "code",
      "metadata": {
        "id": "nin0IiqyoWmd",
        "colab": {
          "base_uri": "https://localhost:8080/"
        },
        "outputId": "b52df368-5ec8-4ab1-a5b6-d2fdc10623eb"
      },
      "source": [
        "!tflite2onnx face_landmark.tflite face_landmark.onnx"
      ],
      "execution_count": null,
      "outputs": [
        {
          "output_type": "stream",
          "text": [
            "ONNX model path (face_landmark.onnx) existed!\n"
          ],
          "name": "stdout"
        }
      ]
    },
    {
      "cell_type": "markdown",
      "metadata": {
        "id": "u2Bu-Vw6lBK1"
      },
      "source": [
        "# Converter implementation"
      ]
    },
    {
      "cell_type": "code",
      "metadata": {
        "id": "Z8bu5UbDlA55"
      },
      "source": [
        "import numpy as np\n",
        "import onnx\n",
        "from onnx import checker, helper\n",
        "from onnx import AttributeProto, TensorProto, GraphProto\n",
        "from onnx import numpy_helper as np_helper"
      ],
      "execution_count": null,
      "outputs": []
    },
    {
      "cell_type": "code",
      "metadata": {
        "id": "clcbavcIsmqu"
      },
      "source": [
        "# Shape tensor generator\n",
        "def get_shape_tensor(model, shape):\n",
        "  name = 'shape_{0}x{1}x{2}x{3}'.format(*shape)\n",
        "\n",
        "  # If the initializer already exists, simply use it.\n",
        "  exists = any(x for x in model.graph.initializer if x.name == name)\n",
        "  if exists: return name\n",
        "\n",
        "  # Add the initializer for the tensor.\n",
        "  tensor = helper.make_tensor(name, TensorProto.INT64, (4,), shape)\n",
        "  model.graph.initializer.append(tensor)\n",
        "  return name"
      ],
      "execution_count": null,
      "outputs": []
    },
    {
      "cell_type": "markdown",
      "metadata": {
        "id": "DdUaOQVdlLwI"
      },
      "source": [
        "## Pad operator replacement"
      ]
    },
    {
      "cell_type": "code",
      "metadata": {
        "id": "1opFpNS_lGIQ"
      },
      "source": [
        "def replace_pad_ops(model):\n",
        "  i = 0\n",
        "  while i < len(model.graph.node):\n",
        "    # Node type check\n",
        "    node = model.graph.node[i]\n",
        "    if node.op_type != 'Pad': i += 1; continue\n",
        "\n",
        "    # Pad node input\n",
        "    data = next(n for n in model.graph.value_info  if n.name == node.input[0])\n",
        "    pads = next(n for n in model.graph.initializer if n.name == node.input[1])\n",
        "\n",
        "    # Shape tensor\n",
        "    dim = tuple(map(lambda x: x.dim_value, data.type.tensor_type.shape.dim))\n",
        "    ext = np_helper.to_array(pads)[5]\n",
        "    shape_tensor = get_shape_tensor(model, (1, ext, dim[2], dim[3]))\n",
        "\n",
        "    # Replacement nodes\n",
        "    const_out = node.name + '_pad'\n",
        "    const_node = helper.make_node('ConstantOfShape', (shape_tensor,), (const_out,))\n",
        "    concat_node = helper.make_node('Concat', (data.name, const_out), (node.output[0],), axis = 1)\n",
        "\n",
        "    # Graph modification\n",
        "    model.graph.node.insert(i, const_node)\n",
        "    model.graph.node.insert(i + 1, concat_node)\n",
        "    model.graph.node.remove(node)\n",
        "    i += 2"
      ],
      "execution_count": null,
      "outputs": []
    },
    {
      "cell_type": "markdown",
      "metadata": {
        "id": "W25ZKEkhlbbC"
      },
      "source": [
        "## PRelu operator replacement"
      ]
    },
    {
      "cell_type": "code",
      "metadata": {
        "id": "9U085LqKmhmb"
      },
      "source": [
        "def replace_prelu_ops(model):\n",
        "  i = 0\n",
        "  while i < len(model.graph.node):\n",
        "    # Node type check\n",
        "    node = model.graph.node[i]\n",
        "    if node.op_type != 'PRelu': i += 1; continue\n",
        "\n",
        "    # PRelu node input\n",
        "    input = next(n for n in model.graph.value_info if n.name == node.input[0])\n",
        "\n",
        "    # Shape tensor\n",
        "    dim = tuple(map(lambda x: x.dim_value, input.type.tensor_type.shape.dim))\n",
        "    shape_tensor = get_shape_tensor(model, dim)\n",
        "\n",
        "    # Replacement nodes\n",
        "    expand_out = node.name + '_expand'\n",
        "    expand_node = helper.make_node('Expand', (node.input[1], shape_tensor), (expand_out,))\n",
        "    prelu_node = helper.make_node('PRelu', (input.name, expand_out), (node.output[0],))\n",
        "\n",
        "    # Graph modification\n",
        "    model.graph.node.insert(i, expand_node)\n",
        "    model.graph.node.insert(i + 1, prelu_node)\n",
        "    model.graph.node.remove(node)\n",
        "    i += 2"
      ],
      "execution_count": null,
      "outputs": []
    },
    {
      "cell_type": "markdown",
      "metadata": {
        "id": "zyLXZZ8gp42D"
      },
      "source": [
        "# ONNX to ONNX (Barracuda) conversion"
      ]
    },
    {
      "cell_type": "code",
      "metadata": {
        "id": "_qXwtjWA7VDw"
      },
      "source": [
        "model = onnx.load(\"face_landmark.onnx\")\n",
        "replace_pad_ops(model)\n",
        "replace_prelu_ops(model)\n",
        "checker.check_model(model)\n",
        "onnx.save(model, \"face_landmark_barracuda.onnx\")"
      ],
      "execution_count": null,
      "outputs": []
    }
  ]
}